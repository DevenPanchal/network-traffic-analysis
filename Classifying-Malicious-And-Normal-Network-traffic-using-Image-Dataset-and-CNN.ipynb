{
  "cells": [
    {
      "cell_type": "code",
      "execution_count": null,
      "metadata": {
        "id": "d2fc5e80"
      },
      "outputs": [],
      "source": [
        "# Importing all necessary libraries\n",
        "import tensorflow\n",
        "from tensorflow.keras.preprocessing.image import ImageDataGenerator\n",
        "from tensorflow.keras.models import Sequential\n",
        "from tensorflow.keras.layers import Conv2D, MaxPooling2D\n",
        "from tensorflow.keras.layers import Activation, Dropout, Flatten, Dense\n",
        "from tensorflow.keras import backend as K\n",
        " \n",
        "img_width, img_height = 256, 1024"
      ],
      "id": "d2fc5e80"
    },
    {
      "cell_type": "code",
      "execution_count": null,
      "metadata": {
        "id": "c928b392"
      },
      "outputs": [],
      "source": [
        "\n",
        "train_data_dir = '/content/drive/MyDrive/traffic-dataset/traffic-dataset/train'\n",
        "validation_data_dir = '/content/drive/MyDrive/traffic-dataset/traffic-dataset/validation'\n",
        "test_data_dir = '/content/drive/MyDrive/traffic-dataset/traffic-dataset/test'\n",
        "\n",
        "nb_train_samples =666\n",
        "nb_validation_samples = 50\n",
        "epochs = 25\n",
        "batch_size = 16"
      ],
      "id": "c928b392"
    },
    {
      "cell_type": "code",
      "execution_count": null,
      "metadata": {
        "id": "30b66c2e"
      },
      "outputs": [],
      "source": [
        "if K.image_data_format() == 'channels_first':\n",
        "    input_shape = (3, img_width, img_height)\n",
        "else:\n",
        "    input_shape = (img_width, img_height, 3)"
      ],
      "id": "30b66c2e"
    },
    {
      "cell_type": "markdown",
      "metadata": {
        "id": "55ff8342"
      },
      "source": [
        "### Model 1: Printing class label using sigmoid activation and last layer with 1 neuron.\n"
      ],
      "id": "55ff8342"
    },
    {
      "cell_type": "code",
      "execution_count": null,
      "metadata": {
        "id": "a86f5612"
      },
      "outputs": [],
      "source": [
        "model = Sequential()\n",
        "model.add(Conv2D(32, (2, 2), input_shape=input_shape))\n",
        "model.add(Activation('relu'))\n",
        "model.add(MaxPooling2D(pool_size=(2, 2)))\n",
        " \n",
        "model.add(Conv2D(32, (2, 2)))\n",
        "model.add(Activation('relu'))\n",
        "model.add(MaxPooling2D(pool_size=(2, 2)))\n",
        " \n",
        "model.add(Conv2D(64, (2, 2)))\n",
        "model.add(Activation('relu'))\n",
        "model.add(MaxPooling2D(pool_size=(2, 2)))\n",
        " \n",
        "model.add(Flatten())\n",
        "model.add(Dense(64))\n",
        "model.add(Activation('relu'))\n",
        "model.add(Dropout(0.5))\n",
        "model.add(Dense(1))\n",
        "model.add(Activation('sigmoid'))"
      ],
      "id": "a86f5612"
    },
    {
      "cell_type": "code",
      "execution_count": null,
      "metadata": {
        "id": "bad2d06a"
      },
      "outputs": [],
      "source": [
        "model.compile(loss='binary_crossentropy',\n",
        "              optimizer='rmsprop',\n",
        "              metrics=['accuracy'])"
      ],
      "id": "bad2d06a"
    },
    {
      "cell_type": "code",
      "execution_count": null,
      "metadata": {
        "colab": {
          "base_uri": "https://localhost:8080/"
        },
        "id": "b467dbe0",
        "outputId": "dcb49d58-d710-4853-ccbf-bdb02d82bde4"
      },
      "outputs": [
        {
          "name": "stdout",
          "output_type": "stream",
          "text": [
            "The tensorboard extension is already loaded. To reload it, use:\n",
            "  %reload_ext tensorboard\n"
          ]
        }
      ],
      "source": [
        "# Load the TensorBoard notebook extension\n",
        "%load_ext tensorboard\n",
        "\n",
        "import tensorflow\n",
        "import datetime\n",
        "\n",
        "\n",
        "\n",
        "log_dir = \"logs/fit/\" + datetime.datetime.now().strftime(\"%Y%m%d-%H%M%S\")\n",
        "tensorboard_callback = tensorflow.keras.callbacks.TensorBoard(log_dir=log_dir, histogram_freq=1)\n",
        "\n"
      ],
      "id": "b467dbe0"
    },
    {
      "cell_type": "code",
      "execution_count": null,
      "metadata": {
        "colab": {
          "background_save": true,
          "base_uri": "https://localhost:8080/"
        },
        "id": "96c12852",
        "outputId": "01917443-d025-4e4b-f34e-01f0a8f9d765"
      },
      "outputs": [
        {
          "name": "stdout",
          "output_type": "stream",
          "text": [
            "Found 666 images belonging to 2 classes.\n",
            "Found 50 images belonging to 2 classes.\n",
            "Epoch 1/25\n",
            "41/41 [==============================] - 287s 7s/step - loss: 2.7893 - accuracy: 0.6815 - val_loss: 1.1428 - val_accuracy: 0.5625\n",
            "Epoch 2/25\n",
            "41/41 [==============================] - 148s 4s/step - loss: 0.5531 - accuracy: 0.7477 - val_loss: 0.3648 - val_accuracy: 0.8750\n",
            "Epoch 3/25\n",
            "41/41 [==============================] - 148s 4s/step - loss: 0.5159 - accuracy: 0.7862 - val_loss: 0.3360 - val_accuracy: 0.8542\n",
            "Epoch 4/25\n",
            "41/41 [==============================] - 146s 4s/step - loss: 0.5144 - accuracy: 0.7831 - val_loss: 0.3409 - val_accuracy: 0.8542\n",
            "Epoch 5/25\n",
            "41/41 [==============================] - 144s 3s/step - loss: 0.4631 - accuracy: 0.8108 - val_loss: 0.2962 - val_accuracy: 0.8750\n",
            "Epoch 6/25\n",
            "41/41 [==============================] - 144s 3s/step - loss: 0.4681 - accuracy: 0.7969 - val_loss: 0.5094 - val_accuracy: 0.6875\n",
            "Epoch 7/25\n",
            "41/41 [==============================] - 144s 3s/step - loss: 0.5139 - accuracy: 0.8108 - val_loss: 0.2689 - val_accuracy: 0.8542\n",
            "Epoch 8/25\n",
            "41/41 [==============================] - 144s 4s/step - loss: 0.4683 - accuracy: 0.8246 - val_loss: 0.5011 - val_accuracy: 0.7917\n",
            "Epoch 9/25\n",
            "41/41 [==============================] - 145s 4s/step - loss: 0.4693 - accuracy: 0.8262 - val_loss: 0.2580 - val_accuracy: 0.8958\n",
            "Epoch 10/25\n",
            "41/41 [==============================] - 145s 4s/step - loss: 0.5161 - accuracy: 0.8169 - val_loss: 0.4056 - val_accuracy: 0.7292\n",
            "Epoch 11/25\n",
            "41/41 [==============================] - 145s 4s/step - loss: 0.4360 - accuracy: 0.8262 - val_loss: 0.3950 - val_accuracy: 0.7708\n",
            "Epoch 12/25\n",
            "41/41 [==============================] - 145s 4s/step - loss: 0.4227 - accuracy: 0.8169 - val_loss: 0.6653 - val_accuracy: 0.7083\n",
            "Epoch 13/25\n",
            "41/41 [==============================] - 144s 4s/step - loss: 0.4112 - accuracy: 0.8369 - val_loss: 0.2477 - val_accuracy: 0.8750\n",
            "Epoch 14/25\n",
            "41/41 [==============================] - 145s 4s/step - loss: 0.4309 - accuracy: 0.8400 - val_loss: 0.3300 - val_accuracy: 0.9375\n",
            "Epoch 15/25\n",
            "41/41 [==============================] - 145s 4s/step - loss: 0.4317 - accuracy: 0.8308 - val_loss: 0.2828 - val_accuracy: 0.8333\n",
            "Epoch 16/25\n",
            "41/41 [==============================] - 144s 4s/step - loss: 0.4325 - accuracy: 0.8200 - val_loss: 0.1656 - val_accuracy: 0.9583\n",
            "Epoch 17/25\n",
            "41/41 [==============================] - 146s 4s/step - loss: 0.4738 - accuracy: 0.8246 - val_loss: 0.3414 - val_accuracy: 0.7708\n",
            "Epoch 18/25\n",
            "41/41 [==============================] - 146s 4s/step - loss: 0.4067 - accuracy: 0.8554 - val_loss: 0.3409 - val_accuracy: 0.8958\n",
            "Epoch 19/25\n",
            "41/41 [==============================] - 145s 4s/step - loss: 0.5871 - accuracy: 0.8508 - val_loss: 0.2284 - val_accuracy: 0.8750\n",
            "Epoch 20/25\n",
            "41/41 [==============================] - 144s 3s/step - loss: 0.4242 - accuracy: 0.8646 - val_loss: 0.1949 - val_accuracy: 0.8750\n",
            "Epoch 21/25\n",
            "41/41 [==============================] - 150s 4s/step - loss: 0.3893 - accuracy: 0.8523 - val_loss: 0.2677 - val_accuracy: 0.8542\n",
            "Epoch 22/25\n",
            "41/41 [==============================] - 150s 4s/step - loss: 0.4169 - accuracy: 0.8508 - val_loss: 0.1709 - val_accuracy: 0.9375\n",
            "Epoch 23/25\n",
            "41/41 [==============================] - 151s 4s/step - loss: 0.3984 - accuracy: 0.8462 - val_loss: 0.4028 - val_accuracy: 0.7292\n",
            "Epoch 24/25\n",
            "41/41 [==============================] - 152s 4s/step - loss: 0.5671 - accuracy: 0.8554 - val_loss: 0.2310 - val_accuracy: 0.8542\n",
            "Epoch 25/25\n",
            "41/41 [==============================] - 149s 4s/step - loss: 0.3825 - accuracy: 0.8615 - val_loss: 0.8191 - val_accuracy: 0.7500\n"
          ]
        }
      ],
      "source": [
        "train_datagen = ImageDataGenerator(\n",
        "    rescale=1. / 255,\n",
        "    shear_range=0.2,\n",
        "    zoom_range=0.2,\n",
        "    horizontal_flip=True)\n",
        " \n",
        "test_datagen = ImageDataGenerator(rescale=1. / 255)\n",
        " \n",
        "train_generator = train_datagen.flow_from_directory(\n",
        "    train_data_dir,\n",
        "    target_size=(img_width, img_height),\n",
        "    batch_size=batch_size,\n",
        "    class_mode='binary')\n",
        " \n",
        "validation_generator = test_datagen.flow_from_directory(\n",
        "    validation_data_dir,\n",
        "    target_size=(img_width, img_height),\n",
        "    batch_size=batch_size,\n",
        "    class_mode='binary')\n",
        "\n",
        "\n",
        "history=model.fit(\n",
        "    train_generator,\n",
        "    steps_per_epoch=nb_train_samples // batch_size,\n",
        "    epochs=epochs,\n",
        "    validation_data=validation_generator,\n",
        "    validation_steps=nb_validation_samples // batch_size,\n",
        "    callbacks=[tensorboard_callback])"
      ],
      "id": "96c12852"
    },
    {
      "cell_type": "code",
      "execution_count": null,
      "metadata": {
        "colab": {
          "background_save": true
        },
        "id": "42a20f79",
        "outputId": "fb1ada16-3a73-4feb-a431-5b851c518696"
      },
      "outputs": [
        {
          "name": "stdout",
          "output_type": "stream",
          "text": [
            "Model: \"sequential_2\"\n",
            "_________________________________________________________________\n",
            " Layer (type)                Output Shape              Param #   \n",
            "=================================================================\n",
            " conv2d_6 (Conv2D)           (None, 255, 1023, 32)     416       \n",
            "                                                                 \n",
            " activation_10 (Activation)  (None, 255, 1023, 32)     0         \n",
            "                                                                 \n",
            " max_pooling2d_6 (MaxPooling  (None, 127, 511, 32)     0         \n",
            " 2D)                                                             \n",
            "                                                                 \n",
            " conv2d_7 (Conv2D)           (None, 126, 510, 32)      4128      \n",
            "                                                                 \n",
            " activation_11 (Activation)  (None, 126, 510, 32)      0         \n",
            "                                                                 \n",
            " max_pooling2d_7 (MaxPooling  (None, 63, 255, 32)      0         \n",
            " 2D)                                                             \n",
            "                                                                 \n",
            " conv2d_8 (Conv2D)           (None, 62, 254, 64)       8256      \n",
            "                                                                 \n",
            " activation_12 (Activation)  (None, 62, 254, 64)       0         \n",
            "                                                                 \n",
            " max_pooling2d_8 (MaxPooling  (None, 31, 127, 64)      0         \n",
            " 2D)                                                             \n",
            "                                                                 \n",
            " flatten_2 (Flatten)         (None, 251968)            0         \n",
            "                                                                 \n",
            " dense_4 (Dense)             (None, 64)                16126016  \n",
            "                                                                 \n",
            " activation_13 (Activation)  (None, 64)                0         \n",
            "                                                                 \n",
            " dropout_2 (Dropout)         (None, 64)                0         \n",
            "                                                                 \n",
            " dense_5 (Dense)             (None, 1)                 65        \n",
            "                                                                 \n",
            " activation_14 (Activation)  (None, 1)                 0         \n",
            "                                                                 \n",
            "=================================================================\n",
            "Total params: 16,138,881\n",
            "Trainable params: 16,138,881\n",
            "Non-trainable params: 0\n",
            "_________________________________________________________________\n"
          ]
        }
      ],
      "source": [
        "model.summary()"
      ],
      "id": "42a20f79"
    },
    {
      "cell_type": "code",
      "execution_count": null,
      "metadata": {
        "colab": {
          "background_save": true
        },
        "id": "58e8222e",
        "outputId": "c772af0d-fe9f-4f08-ef81-ca48693b334b"
      },
      "outputs": [
        {
          "data": {
            "application/javascript": [
              "\n",
              "        (async () => {\n",
              "            const url = new URL(await google.colab.kernel.proxyPort(6007, {'cache': true}));\n",
              "            url.searchParams.set('tensorboardColab', 'true');\n",
              "            const iframe = document.createElement('iframe');\n",
              "            iframe.src = url;\n",
              "            iframe.setAttribute('width', '100%');\n",
              "            iframe.setAttribute('height', '800');\n",
              "            iframe.setAttribute('frameborder', 0);\n",
              "            document.body.appendChild(iframe);\n",
              "        })();\n",
              "    "
            ],
            "text/plain": [
              "<IPython.core.display.Javascript object>"
            ]
          },
          "metadata": {},
          "output_type": "display_data"
        }
      ],
      "source": [
        "%tensorboard --logdir logs/fit"
      ],
      "id": "58e8222e"
    },
    {
      "cell_type": "code",
      "execution_count": null,
      "metadata": {
        "colab": {
          "background_save": true
        },
        "id": "e941f6e2",
        "outputId": "b0f85592-0352-4e3c-a4df-6648f2c4b4b7"
      },
      "outputs": [
        {
          "data": {
            "text/plain": [
              "{'accuracy': [0.681538462638855,\n",
              "  0.7476922869682312,\n",
              "  0.7861538529396057,\n",
              "  0.7830769419670105,\n",
              "  0.810769259929657,\n",
              "  0.7969231009483337,\n",
              "  0.810769259929657,\n",
              "  0.8246153593063354,\n",
              "  0.8261538743972778,\n",
              "  0.8169230818748474,\n",
              "  0.8261538743972778,\n",
              "  0.8169230818748474,\n",
              "  0.8369230628013611,\n",
              "  0.8399999737739563,\n",
              "  0.8307692408561707,\n",
              "  0.8199999928474426,\n",
              "  0.8246153593063354,\n",
              "  0.8553845882415771,\n",
              "  0.8507692217826843,\n",
              "  0.8646153807640076,\n",
              "  0.8523076772689819,\n",
              "  0.8507692217826843,\n",
              "  0.8461538553237915,\n",
              "  0.8553845882415771,\n",
              "  0.8615384697914124],\n",
              " 'loss': [2.789276361465454,\n",
              "  0.5531468987464905,\n",
              "  0.5158843398094177,\n",
              "  0.514446496963501,\n",
              "  0.46311208605766296,\n",
              "  0.4681459367275238,\n",
              "  0.5138962268829346,\n",
              "  0.46825647354125977,\n",
              "  0.46932485699653625,\n",
              "  0.5161124467849731,\n",
              "  0.4359683096408844,\n",
              "  0.4226972460746765,\n",
              "  0.41118690371513367,\n",
              "  0.4308698773384094,\n",
              "  0.43167516589164734,\n",
              "  0.4324813187122345,\n",
              "  0.473763108253479,\n",
              "  0.40672463178634644,\n",
              "  0.5870655179023743,\n",
              "  0.4241674840450287,\n",
              "  0.38930684328079224,\n",
              "  0.416851669549942,\n",
              "  0.39837637543678284,\n",
              "  0.5671108365058899,\n",
              "  0.38252755999565125],\n",
              " 'val_accuracy': [0.5625,\n",
              "  0.875,\n",
              "  0.8541666865348816,\n",
              "  0.8541666865348816,\n",
              "  0.875,\n",
              "  0.6875,\n",
              "  0.8541666865348816,\n",
              "  0.7916666865348816,\n",
              "  0.8958333134651184,\n",
              "  0.7291666865348816,\n",
              "  0.7708333134651184,\n",
              "  0.7083333134651184,\n",
              "  0.875,\n",
              "  0.9375,\n",
              "  0.8333333134651184,\n",
              "  0.9583333134651184,\n",
              "  0.7708333134651184,\n",
              "  0.8958333134651184,\n",
              "  0.875,\n",
              "  0.875,\n",
              "  0.8541666865348816,\n",
              "  0.9375,\n",
              "  0.7291666865348816,\n",
              "  0.8541666865348816,\n",
              "  0.75],\n",
              " 'val_loss': [1.1428378820419312,\n",
              "  0.3647801876068115,\n",
              "  0.33596310019493103,\n",
              "  0.3408946990966797,\n",
              "  0.2961524724960327,\n",
              "  0.509446918964386,\n",
              "  0.268928200006485,\n",
              "  0.5011337995529175,\n",
              "  0.2579786777496338,\n",
              "  0.4055846631526947,\n",
              "  0.3949635922908783,\n",
              "  0.6652805209159851,\n",
              "  0.2476949542760849,\n",
              "  0.3299834430217743,\n",
              "  0.28283828496932983,\n",
              "  0.16557449102401733,\n",
              "  0.3413766920566559,\n",
              "  0.3409126102924347,\n",
              "  0.228395476937294,\n",
              "  0.19489997625350952,\n",
              "  0.2677079141139984,\n",
              "  0.17086251080036163,\n",
              "  0.40283456444740295,\n",
              "  0.23101156949996948,\n",
              "  0.8190538287162781]}"
            ]
          },
          "execution_count": null,
          "metadata": {},
          "output_type": "execute_result"
        }
      ],
      "source": [
        "history.history"
      ],
      "id": "e941f6e2"
    },
    {
      "cell_type": "code",
      "execution_count": null,
      "metadata": {
        "colab": {
          "background_save": true
        },
        "id": "126e393e",
        "outputId": "d97ab5e6-0b2d-40ac-ef1b-93d22c89f831"
      },
      "outputs": [
        {
          "data": {
            "text/plain": [
              "{'Malware': 0, 'Normal': 1}"
            ]
          },
          "execution_count": null,
          "metadata": {},
          "output_type": "execute_result"
        }
      ],
      "source": [
        "train_generator.class_indices"
      ],
      "id": "126e393e"
    },
    {
      "cell_type": "code",
      "execution_count": null,
      "metadata": {
        "colab": {
          "background_save": true
        },
        "id": "014f5f06"
      },
      "outputs": [],
      "source": [
        "from tensorflow.keras.models import load_model\n",
        "from tensorflow.keras.preprocessing.image import load_img\n",
        "from tensorflow.keras.preprocessing.image import img_to_array\n",
        "from tensorflow.keras.applications.vgg16 import preprocess_input\n",
        "from tensorflow.keras.applications.vgg16 import decode_predictions\n",
        "from tensorflow.keras.applications.vgg16 import VGG16\n",
        "import numpy as np\n",
        " \n",
        "from keras.models import load_model\n",
        "\n",
        " \n",
        "image = load_img('/content/drive/MyDrive/traffic-dataset/traffic-dataset/test/Malware/2017-02-09-Hancitor-Pony-malspam-traffic.png', target_size=(256, 1024))\n",
        "img = np.array(image)\n",
        "img = img / 255.0\n",
        "img = img.reshape(1,256,1024,3)\n",
        "preds=model.predict(img)\n",
        "\n",
        "\n"
      ],
      "id": "014f5f06"
    },
    {
      "cell_type": "code",
      "execution_count": null,
      "metadata": {
        "colab": {
          "background_save": true
        },
        "id": "af761688",
        "outputId": "67aa2803-6ada-4316-d896-2e9a9fede886"
      },
      "outputs": [
        {
          "data": {
            "text/plain": [
              "0.015496641"
            ]
          },
          "execution_count": null,
          "metadata": {},
          "output_type": "execute_result"
        }
      ],
      "source": [
        "preds[0][0]"
      ],
      "id": "af761688"
    },
    {
      "cell_type": "code",
      "execution_count": null,
      "metadata": {
        "colab": {
          "background_save": true
        },
        "id": "8512cbed",
        "outputId": "1e7ff58f-7a95-45f1-a3bd-ceb86f6fda27"
      },
      "outputs": [
        {
          "name": "stdout",
          "output_type": "stream",
          "text": [
            "Malware:0, Normal:1   -> ANS: 0\n"
          ]
        }
      ],
      "source": [
        "print(\"Malware:0, Normal:1   -> ANS:\", 0 if preds[0][0]<0.5 else 1 )"
      ],
      "id": "8512cbed"
    },
    {
      "cell_type": "code",
      "execution_count": null,
      "metadata": {
        "colab": {
          "background_save": true
        },
        "id": "1168d50a"
      },
      "outputs": [],
      "source": [
        "\n",
        "image = load_img('/content/drive/MyDrive/traffic-dataset/traffic-dataset/test/Normal/aaa.png', target_size=(256, 1024))\n",
        "img = np.array(image)\n",
        "img = img / 255.0\n",
        "img = img.reshape(1,256,1024,3)\n",
        "preds=model.predict(img)\n"
      ],
      "id": "1168d50a"
    },
    {
      "cell_type": "code",
      "execution_count": null,
      "metadata": {
        "colab": {
          "background_save": true
        },
        "id": "6a85cd04",
        "outputId": "3ff1ddb3-0ea0-4cd0-f4d5-955b22016868"
      },
      "outputs": [
        {
          "data": {
            "text/plain": [
              "array([[0.43971652]], dtype=float32)"
            ]
          },
          "execution_count": null,
          "metadata": {},
          "output_type": "execute_result"
        }
      ],
      "source": [
        "preds"
      ],
      "id": "6a85cd04"
    },
    {
      "cell_type": "code",
      "execution_count": null,
      "metadata": {
        "colab": {
          "background_save": true
        },
        "id": "a527d2be",
        "outputId": "2f5e620b-f5d8-4c8f-f88b-237fee7f6bf3"
      },
      "outputs": [
        {
          "name": "stdout",
          "output_type": "stream",
          "text": [
            "Malware:0, Normal:1   -> ANS: 0\n"
          ]
        }
      ],
      "source": [
        "print(\"Malware:0, Normal:1   -> ANS:\", 0 if preds[0][0]<0.5 else 1)"
      ],
      "id": "a527d2be"
    },
    {
      "cell_type": "markdown",
      "metadata": {
        "id": "499ead8c"
      },
      "source": [
        "### Model 2:  Printing probabilities/confidence using softmax activation and last layer with 2 neurons"
      ],
      "id": "499ead8c"
    },
    {
      "cell_type": "code",
      "execution_count": null,
      "metadata": {
        "colab": {
          "background_save": true
        },
        "id": "0f9afd12"
      },
      "outputs": [],
      "source": [
        "model2 = Sequential()\n",
        "model2.add(Conv2D(32, (2, 2), input_shape=input_shape))\n",
        "model2.add(Activation('relu'))\n",
        "model2.add(MaxPooling2D(pool_size=(2, 2)))\n",
        " \n",
        "model2.add(Conv2D(32, (2, 2)))\n",
        "model2.add(Activation('relu'))\n",
        "model2.add(MaxPooling2D(pool_size=(2, 2)))\n",
        " \n",
        "model2.add(Conv2D(64, (2, 2)))\n",
        "model2.add(Activation('relu'))\n",
        "model2.add(MaxPooling2D(pool_size=(2, 2)))\n",
        " \n",
        "model2.add(Flatten())\n",
        "model2.add(Dense(64))\n",
        "model2.add(Activation('relu'))\n",
        "model2.add(Dropout(0.5))\n",
        "model2.add(Dense(2))\n",
        "model2.add(Activation('softmax'))"
      ],
      "id": "0f9afd12"
    },
    {
      "cell_type": "code",
      "execution_count": null,
      "metadata": {
        "colab": {
          "background_save": true
        },
        "id": "cb1267d7"
      },
      "outputs": [],
      "source": [
        "model2.compile(loss='sparse_categorical_crossentropy',\n",
        "              optimizer='rmsprop',\n",
        "              metrics=['accuracy'])"
      ],
      "id": "cb1267d7"
    },
    {
      "cell_type": "code",
      "execution_count": null,
      "metadata": {
        "colab": {
          "background_save": true
        },
        "id": "r0JCpUT2uXNG"
      },
      "outputs": [],
      "source": [
        "log_dir = \"logs2/fit/\" + datetime.datetime.now().strftime(\"%Y%m%d-%H%M%S\")\n",
        "tensorboard_callback = tensorflow.keras.callbacks.TensorBoard(log_dir=log_dir, histogram_freq=1)\n",
        "\n"
      ],
      "id": "r0JCpUT2uXNG"
    },
    {
      "cell_type": "code",
      "execution_count": null,
      "metadata": {
        "colab": {
          "background_save": true
        },
        "id": "33754003",
        "outputId": "c3bb76b3-a537-4d53-b9ea-f8693ec3645e"
      },
      "outputs": [
        {
          "name": "stdout",
          "output_type": "stream",
          "text": [
            "Epoch 1/25\n",
            "41/41 [==============================] - 154s 4s/step - loss: 2.2695 - accuracy: 0.6662 - val_loss: 2.0554 - val_accuracy: 0.6250\n",
            "Epoch 2/25\n",
            "41/41 [==============================] - 150s 4s/step - loss: 0.6587 - accuracy: 0.7369 - val_loss: 0.5470 - val_accuracy: 0.7083\n",
            "Epoch 3/25\n",
            "41/41 [==============================] - 151s 4s/step - loss: 0.6289 - accuracy: 0.7662 - val_loss: 0.3711 - val_accuracy: 0.7708\n",
            "Epoch 4/25\n",
            "41/41 [==============================] - 153s 4s/step - loss: 0.5353 - accuracy: 0.7692 - val_loss: 0.5422 - val_accuracy: 0.6458\n",
            "Epoch 5/25\n",
            "41/41 [==============================] - 149s 4s/step - loss: 0.5248 - accuracy: 0.8031 - val_loss: 0.2235 - val_accuracy: 0.9167\n",
            "Epoch 6/25\n",
            "41/41 [==============================] - 149s 4s/step - loss: 0.6045 - accuracy: 0.8154 - val_loss: 0.4333 - val_accuracy: 0.7500\n",
            "Epoch 7/25\n",
            "41/41 [==============================] - 150s 4s/step - loss: 0.4478 - accuracy: 0.8277 - val_loss: 0.3136 - val_accuracy: 0.8333\n",
            "Epoch 8/25\n",
            "41/41 [==============================] - 149s 4s/step - loss: 0.4520 - accuracy: 0.8138 - val_loss: 0.1981 - val_accuracy: 0.9167\n",
            "Epoch 9/25\n",
            "41/41 [==============================] - 152s 4s/step - loss: 0.4403 - accuracy: 0.8354 - val_loss: 0.5499 - val_accuracy: 0.7500\n",
            "Epoch 10/25\n",
            "41/41 [==============================] - 151s 4s/step - loss: 0.5080 - accuracy: 0.8200 - val_loss: 0.2398 - val_accuracy: 0.8542\n",
            "Epoch 11/25\n",
            "41/41 [==============================] - 150s 4s/step - loss: 0.4340 - accuracy: 0.8369 - val_loss: 0.2691 - val_accuracy: 0.8333\n",
            "Epoch 12/25\n",
            "41/41 [==============================] - 153s 4s/step - loss: 0.4406 - accuracy: 0.8246 - val_loss: 0.2297 - val_accuracy: 0.8542\n",
            "Epoch 13/25\n",
            "41/41 [==============================] - 150s 4s/step - loss: 0.4275 - accuracy: 0.8446 - val_loss: 0.2200 - val_accuracy: 0.8542\n",
            "Epoch 14/25\n",
            "41/41 [==============================] - 150s 4s/step - loss: 0.4355 - accuracy: 0.8523 - val_loss: 0.1421 - val_accuracy: 0.9583\n",
            "Epoch 15/25\n",
            "41/41 [==============================] - 151s 4s/step - loss: 0.4173 - accuracy: 0.8492 - val_loss: 0.1492 - val_accuracy: 0.9375\n",
            "Epoch 16/25\n",
            "41/41 [==============================] - 149s 4s/step - loss: 0.4818 - accuracy: 0.8369 - val_loss: 2.2313 - val_accuracy: 0.5625\n",
            "Epoch 17/25\n",
            "41/41 [==============================] - 152s 4s/step - loss: 0.4400 - accuracy: 0.8415 - val_loss: 0.2902 - val_accuracy: 0.8125\n",
            "Epoch 18/25\n",
            "41/41 [==============================] - 149s 4s/step - loss: 0.3864 - accuracy: 0.8431 - val_loss: 0.2151 - val_accuracy: 0.8333\n",
            "Epoch 19/25\n",
            "41/41 [==============================] - 150s 4s/step - loss: 0.4142 - accuracy: 0.8369 - val_loss: 0.1372 - val_accuracy: 0.9375\n",
            "Epoch 20/25\n",
            "41/41 [==============================] - 150s 4s/step - loss: 0.4002 - accuracy: 0.8492 - val_loss: 0.1357 - val_accuracy: 0.9375\n",
            "Epoch 21/25\n",
            "41/41 [==============================] - 150s 4s/step - loss: 0.3630 - accuracy: 0.8431 - val_loss: 0.1799 - val_accuracy: 0.9375\n",
            "Epoch 22/25\n",
            "41/41 [==============================] - 150s 4s/step - loss: 0.3844 - accuracy: 0.8646 - val_loss: 0.1453 - val_accuracy: 0.9375\n",
            "Epoch 23/25\n",
            "41/41 [==============================] - 152s 4s/step - loss: 0.3883 - accuracy: 0.8600 - val_loss: 0.1727 - val_accuracy: 0.9583\n",
            "Epoch 24/25\n",
            "41/41 [==============================] - 149s 4s/step - loss: 0.3719 - accuracy: 0.8569 - val_loss: 1.1365 - val_accuracy: 0.7083\n",
            "Epoch 25/25\n",
            "41/41 [==============================] - 150s 4s/step - loss: 0.4190 - accuracy: 0.8508 - val_loss: 0.1951 - val_accuracy: 0.8750\n"
          ]
        }
      ],
      "source": [
        "history2 = model2.fit(\n",
        "    train_generator,\n",
        "    steps_per_epoch=nb_train_samples // batch_size,\n",
        "    epochs=epochs,\n",
        "    validation_data=validation_generator,\n",
        "    validation_steps=nb_validation_samples // batch_size,\n",
        "      callbacks=[tensorboard_callback])"
      ],
      "id": "33754003"
    },
    {
      "cell_type": "code",
      "execution_count": null,
      "metadata": {
        "colab": {
          "background_save": true
        },
        "id": "43f1805d",
        "outputId": "bfc795b2-84ef-4926-bbc4-d229d5a81b22"
      },
      "outputs": [
        {
          "name": "stdout",
          "output_type": "stream",
          "text": [
            "Model: \"sequential_3\"\n",
            "_________________________________________________________________\n",
            " Layer (type)                Output Shape              Param #   \n",
            "=================================================================\n",
            " conv2d_9 (Conv2D)           (None, 255, 1023, 32)     416       \n",
            "                                                                 \n",
            " activation_15 (Activation)  (None, 255, 1023, 32)     0         \n",
            "                                                                 \n",
            " max_pooling2d_9 (MaxPooling  (None, 127, 511, 32)     0         \n",
            " 2D)                                                             \n",
            "                                                                 \n",
            " conv2d_10 (Conv2D)          (None, 126, 510, 32)      4128      \n",
            "                                                                 \n",
            " activation_16 (Activation)  (None, 126, 510, 32)      0         \n",
            "                                                                 \n",
            " max_pooling2d_10 (MaxPoolin  (None, 63, 255, 32)      0         \n",
            " g2D)                                                            \n",
            "                                                                 \n",
            " conv2d_11 (Conv2D)          (None, 62, 254, 64)       8256      \n",
            "                                                                 \n",
            " activation_17 (Activation)  (None, 62, 254, 64)       0         \n",
            "                                                                 \n",
            " max_pooling2d_11 (MaxPoolin  (None, 31, 127, 64)      0         \n",
            " g2D)                                                            \n",
            "                                                                 \n",
            " flatten_3 (Flatten)         (None, 251968)            0         \n",
            "                                                                 \n",
            " dense_6 (Dense)             (None, 64)                16126016  \n",
            "                                                                 \n",
            " activation_18 (Activation)  (None, 64)                0         \n",
            "                                                                 \n",
            " dropout_3 (Dropout)         (None, 64)                0         \n",
            "                                                                 \n",
            " dense_7 (Dense)             (None, 2)                 130       \n",
            "                                                                 \n",
            " activation_19 (Activation)  (None, 2)                 0         \n",
            "                                                                 \n",
            "=================================================================\n",
            "Total params: 16,138,946\n",
            "Trainable params: 16,138,946\n",
            "Non-trainable params: 0\n",
            "_________________________________________________________________\n"
          ]
        }
      ],
      "source": [
        "model2.summary()"
      ],
      "id": "43f1805d"
    },
    {
      "cell_type": "code",
      "execution_count": null,
      "metadata": {
        "colab": {
          "background_save": true
        },
        "id": "PZqGOUJstqMX",
        "outputId": "42057f5f-1c90-4fd9-9773-efdadc875b77"
      },
      "outputs": [
        {
          "data": {
            "text/plain": [
              "Reusing TensorBoard on port 6006 (pid 122), started 2:33:09 ago. (Use '!kill 122' to kill it.)"
            ]
          },
          "metadata": {},
          "output_type": "display_data"
        },
        {
          "data": {
            "application/javascript": [
              "\n",
              "        (async () => {\n",
              "            const url = new URL(await google.colab.kernel.proxyPort(6006, {'cache': true}));\n",
              "            url.searchParams.set('tensorboardColab', 'true');\n",
              "            const iframe = document.createElement('iframe');\n",
              "            iframe.src = url;\n",
              "            iframe.setAttribute('width', '100%');\n",
              "            iframe.setAttribute('height', '800');\n",
              "            iframe.setAttribute('frameborder', 0);\n",
              "            document.body.appendChild(iframe);\n",
              "        })();\n",
              "    "
            ],
            "text/plain": [
              "<IPython.core.display.Javascript object>"
            ]
          },
          "metadata": {},
          "output_type": "display_data"
        }
      ],
      "source": [
        "%tensorboard --logdir logs2/fit"
      ],
      "id": "PZqGOUJstqMX"
    },
    {
      "cell_type": "code",
      "execution_count": null,
      "metadata": {
        "colab": {
          "background_save": true
        },
        "id": "b061f5a6",
        "outputId": "8ff97ae6-86c9-4ed8-aeb6-fdab40912791"
      },
      "outputs": [
        {
          "data": {
            "text/plain": [
              "{'accuracy': [0.6661538481712341,\n",
              "  0.736923098564148,\n",
              "  0.766153872013092,\n",
              "  0.7692307829856873,\n",
              "  0.8030769228935242,\n",
              "  0.8153846263885498,\n",
              "  0.8276923298835754,\n",
              "  0.8138461709022522,\n",
              "  0.8353846073150635,\n",
              "  0.8199999928474426,\n",
              "  0.8369230628013611,\n",
              "  0.8246153593063354,\n",
              "  0.8446153998374939,\n",
              "  0.8523076772689819,\n",
              "  0.8492307662963867,\n",
              "  0.8369230628013611,\n",
              "  0.8415384888648987,\n",
              "  0.8430769443511963,\n",
              "  0.8369230628013611,\n",
              "  0.8492307662963867,\n",
              "  0.8430769443511963,\n",
              "  0.8646153807640076,\n",
              "  0.8600000143051147,\n",
              "  0.8569231033325195,\n",
              "  0.8507692217826843],\n",
              " 'loss': [2.2694833278656006,\n",
              "  0.6586989164352417,\n",
              "  0.6288999915122986,\n",
              "  0.5352991223335266,\n",
              "  0.5247567296028137,\n",
              "  0.6045235395431519,\n",
              "  0.4478282332420349,\n",
              "  0.45196759700775146,\n",
              "  0.4402863383293152,\n",
              "  0.5079808235168457,\n",
              "  0.43396949768066406,\n",
              "  0.4406389892101288,\n",
              "  0.42754751443862915,\n",
              "  0.43551063537597656,\n",
              "  0.417341023683548,\n",
              "  0.48182108998298645,\n",
              "  0.44000229239463806,\n",
              "  0.38637980818748474,\n",
              "  0.41421249508857727,\n",
              "  0.4002458453178406,\n",
              "  0.36296242475509644,\n",
              "  0.38438674807548523,\n",
              "  0.38833534717559814,\n",
              "  0.3718588948249817,\n",
              "  0.4189765751361847],\n",
              " 'val_accuracy': [0.625,\n",
              "  0.7083333134651184,\n",
              "  0.7708333134651184,\n",
              "  0.6458333134651184,\n",
              "  0.9166666865348816,\n",
              "  0.75,\n",
              "  0.8333333134651184,\n",
              "  0.9166666865348816,\n",
              "  0.75,\n",
              "  0.8541666865348816,\n",
              "  0.8333333134651184,\n",
              "  0.8541666865348816,\n",
              "  0.8541666865348816,\n",
              "  0.9583333134651184,\n",
              "  0.9375,\n",
              "  0.5625,\n",
              "  0.8125,\n",
              "  0.8333333134651184,\n",
              "  0.9375,\n",
              "  0.9375,\n",
              "  0.9375,\n",
              "  0.9375,\n",
              "  0.9583333134651184,\n",
              "  0.7083333134651184,\n",
              "  0.875],\n",
              " 'val_loss': [2.0554466247558594,\n",
              "  0.5470088124275208,\n",
              "  0.3710905611515045,\n",
              "  0.5422499775886536,\n",
              "  0.22352467477321625,\n",
              "  0.43326064944267273,\n",
              "  0.3135581612586975,\n",
              "  0.19814978539943695,\n",
              "  0.549854040145874,\n",
              "  0.23981517553329468,\n",
              "  0.26914703845977783,\n",
              "  0.22967500984668732,\n",
              "  0.21998687088489532,\n",
              "  0.14209264516830444,\n",
              "  0.1492435485124588,\n",
              "  2.231346368789673,\n",
              "  0.2902291715145111,\n",
              "  0.21506978571414948,\n",
              "  0.13717465102672577,\n",
              "  0.13567067682743073,\n",
              "  0.1798781156539917,\n",
              "  0.1453213095664978,\n",
              "  0.17272986471652985,\n",
              "  1.1365010738372803,\n",
              "  0.1951357126235962]}"
            ]
          },
          "execution_count": null,
          "metadata": {},
          "output_type": "execute_result"
        }
      ],
      "source": [
        "history2.history"
      ],
      "id": "b061f5a6"
    },
    {
      "cell_type": "code",
      "execution_count": null,
      "metadata": {
        "colab": {
          "background_save": true
        },
        "id": "895412da",
        "outputId": "af558bc2-93b4-4623-af7e-7ad2b24c94f2"
      },
      "outputs": [
        {
          "name": "stdout",
          "output_type": "stream",
          "text": [
            "{'Malware': 0, 'Normal': 1}\n",
            "[0 0 0 0 0 0 0 0 0 0 0 0 0 0 0 0 0 0 0 0 0 0 0 0 0 0 0 0 0 0 0 0 0 0 0 0 0\n",
            " 0 0 0 0 0 0 0 0 0 0 0 0 0 0 0 0 0 0 0 0 0 0 0 0 0 0 0 0 0 0 0 0 0 0 0 0 0\n",
            " 0 0 0 0 0 0 0 0 0 0 0 0 0 0 0 0 0 0 0 0 0 0 0 0 0 0 0 0 0 0 0 0 0 0 0 0 0\n",
            " 0 0 0 0 0 0 0 0 0 0 0 0 0 0 0 0 0 0 0 0 0 0 0 0 0 0 0 0 0 0 0 0 0 0 0 0 0\n",
            " 0 0 0 0 0 0 0 0 0 0 0 0 0 0 0 0 0 0 0 0 0 0 0 0 0 0 0 0 0 0 0 0 0 0 0 0 0\n",
            " 0 0 0 0 0 0 0 0 0 0 0 0 0 0 0 0 0 0 0 0 0 0 0 0 0 0 0 0 0 0 0 0 0 0 0 0 0\n",
            " 0 0 0 0 0 0 0 0 0 0 0 0 0 0 0 0 0 0 0 0 0 0 0 0 0 0 0 0 0 0 0 0 0 0 0 0 0\n",
            " 0 0 0 0 0 0 0 0 0 0 0 0 0 0 0 0 0 0 0 0 0 0 0 0 0 0 0 0 0 0 0 0 0 0 0 0 0\n",
            " 0 0 0 0 0 0 0 0 0 0 0 0 0 0 0 0 0 0 0 0 0 0 0 0 0 0 0 0 0 0 0 0 0 0 0 0 0\n",
            " 0 0 0 0 0 0 0 0 0 0 0 0 0 0 0 0 0 0 0 0 0 0 0 0 0 0 0 0 0 0 0 0 0 0 0 0 0\n",
            " 0 0 0 0 0 0 0 0 0 0 0 0 0 0 0 0 0 0 0 0 0 0 0 0 0 0 0 0 0 0 0 0 0 0 0 0 0\n",
            " 0 0 0 0 0 0 0 0 0 0 0 0 1 1 1 1 1 1 1 1 1 1 1 1 1 1 1 1 1 1 1 1 1 1 1 1 1\n",
            " 1 1 1 1 1 1 1 1 1 1 1 1 1 1 1 1 1 1 1 1 1 1 1 1 1 1 1 1 1 1 1 1 1 1 1 1 1\n",
            " 1 1 1 1 1 1 1 1 1 1 1 1 1 1 1 1 1 1 1 1 1 1 1 1 1 1 1 1 1 1 1 1 1 1 1 1 1\n",
            " 1 1 1 1 1 1 1 1 1 1 1 1 1 1 1 1 1 1 1 1 1 1 1 1 1 1 1 1 1 1 1 1 1 1 1 1 1\n",
            " 1 1 1 1 1 1 1 1 1 1 1 1 1 1 1 1 1 1 1 1 1 1 1 1 1 1 1 1 1 1 1 1 1 1 1 1 1\n",
            " 1 1 1 1 1 1 1 1 1 1 1 1 1 1 1 1 1 1 1 1 1 1 1 1 1 1 1 1 1 1 1 1 1 1 1 1 1\n",
            " 1 1 1 1 1 1 1 1 1 1 1 1 1 1 1 1 1 1 1 1 1 1 1 1 1 1 1 1 1 1 1 1 1 1 1 1 1]\n"
          ]
        }
      ],
      "source": [
        "print(train_generator.class_indices)\n",
        "print(train_generator.classes)\n"
      ],
      "id": "895412da"
    },
    {
      "cell_type": "code",
      "execution_count": null,
      "metadata": {
        "colab": {
          "background_save": true
        },
        "id": "b8fc1504"
      },
      "outputs": [],
      "source": [
        "\n",
        "image = load_img('/content/drive/MyDrive/traffic-dataset/traffic-dataset/test/Malware/2017-02-09-Hancitor-Pony-malspam-traffic.png', target_size=(256, 1024))\n",
        "img = np.array(image)\n",
        "img = img / 255.0\n",
        "img = img.reshape(1,256,1024,3)\n",
        "preds=model2.predict(img)\n"
      ],
      "id": "b8fc1504"
    },
    {
      "cell_type": "code",
      "execution_count": null,
      "metadata": {
        "colab": {
          "background_save": true
        },
        "id": "e94f0424",
        "outputId": "1e3b7ef3-bff8-4061-a7be-fb544321e3bb"
      },
      "outputs": [
        {
          "data": {
            "text/plain": [
              "array([[0.9076093 , 0.09239075]], dtype=float32)"
            ]
          },
          "execution_count": null,
          "metadata": {},
          "output_type": "execute_result"
        }
      ],
      "source": [
        "preds"
      ],
      "id": "e94f0424"
    },
    {
      "cell_type": "code",
      "execution_count": null,
      "metadata": {
        "colab": {
          "background_save": true
        },
        "id": "84b378e3",
        "outputId": "f62cd58d-64bf-479b-b1d8-e148abd4abd6"
      },
      "outputs": [
        {
          "name": "stdout",
          "output_type": "stream",
          "text": [
            "Model believes the example is 90.76092839241028 %  Malicious\n",
            "Model believes the example is 9.23907458782196 %  Normal\n"
          ]
        }
      ],
      "source": [
        "print(\"Model believes the example is \" + str(preds[0][0]*100) + \" %  Malicious\")\n",
        "print(\"Model believes the example is \" + str(preds[0][1]*100) + \" %  Normal\")"
      ],
      "id": "84b378e3"
    },
    {
      "cell_type": "code",
      "execution_count": null,
      "metadata": {
        "colab": {
          "background_save": true
        },
        "id": "e316abf1"
      },
      "outputs": [],
      "source": [
        "image = load_img('/content/drive/MyDrive/traffic-dataset/traffic-dataset/test/Normal/aaa.png', target_size=(256, 1024))\n",
        "img = np.array(image)\n",
        "img = img / 255.0\n",
        "img = img.reshape(1,256,1024,3)\n",
        "preds=model2.predict(img)"
      ],
      "id": "e316abf1"
    },
    {
      "cell_type": "code",
      "execution_count": null,
      "metadata": {
        "colab": {
          "background_save": true
        },
        "id": "17fe561a",
        "outputId": "a5d662b1-973d-470d-edaf-21e31ce87ac4"
      },
      "outputs": [
        {
          "data": {
            "text/plain": [
              "array([[0.34220487, 0.65779513]], dtype=float32)"
            ]
          },
          "execution_count": null,
          "metadata": {},
          "output_type": "execute_result"
        }
      ],
      "source": [
        "preds"
      ],
      "id": "17fe561a"
    },
    {
      "cell_type": "code",
      "execution_count": null,
      "metadata": {
        "colab": {
          "background_save": true
        },
        "id": "78fd41e2",
        "outputId": "3433624c-82e7-45b5-a0c1-dcdbe0a78520"
      },
      "outputs": [
        {
          "name": "stdout",
          "output_type": "stream",
          "text": [
            "Model believes the example is 34.220486879348755 %  Malicious\n",
            "Model believes the example is 65.77951312065125 %  Normal\n"
          ]
        }
      ],
      "source": [
        "print(\"Model believes the example is \" + str(preds[0][0]*100) + \" %  Malicious\")\n",
        "print(\"Model believes the example is \" + str(preds[0][1]*100) + \" %  Normal\")"
      ],
      "id": "78fd41e2"
    },
    {
      "cell_type": "markdown",
      "metadata": {
        "id": "ffeeb434"
      },
      "source": [
        "### Print Confusion Matrices for Both Models\n",
        "\n",
        "\n"
      ],
      "id": "ffeeb434"
    },
    {
      "cell_type": "code",
      "execution_count": null,
      "metadata": {
        "colab": {
          "background_save": true
        },
        "id": "e908b601",
        "outputId": "0c9fce41-a41d-4975-bceb-e3290fd55710"
      },
      "outputs": [
        {
          "name": "stderr",
          "output_type": "stream",
          "text": [
            "/usr/local/lib/python3.7/dist-packages/ipykernel_launcher.py:3: UserWarning: `Model.predict_generator` is deprecated and will be removed in a future version. Please use `Model.predict`, which supports generators.\n",
            "  This is separate from the ipykernel package so we can avoid doing imports until\n"
          ]
        },
        {
          "name": "stdout",
          "output_type": "stream",
          "text": [
            "Confusion Matrix\n",
            "[[20  0]\n",
            " [30  0]]\n",
            "Classification Report\n",
            "              precision    recall  f1-score   support\n",
            "\n",
            "   Malicious       0.40      1.00      0.57        20\n",
            "      Normal       0.00      0.00      0.00        30\n",
            "\n",
            "    accuracy                           0.40        50\n",
            "   macro avg       0.20      0.50      0.29        50\n",
            "weighted avg       0.16      0.40      0.23        50\n",
            "\n"
          ]
        },
        {
          "name": "stderr",
          "output_type": "stream",
          "text": [
            "/usr/local/lib/python3.7/dist-packages/sklearn/metrics/_classification.py:1318: UndefinedMetricWarning: Precision and F-score are ill-defined and being set to 0.0 in labels with no predicted samples. Use `zero_division` parameter to control this behavior.\n",
            "  _warn_prf(average, modifier, msg_start, len(result))\n",
            "/usr/local/lib/python3.7/dist-packages/sklearn/metrics/_classification.py:1318: UndefinedMetricWarning: Precision and F-score are ill-defined and being set to 0.0 in labels with no predicted samples. Use `zero_division` parameter to control this behavior.\n",
            "  _warn_prf(average, modifier, msg_start, len(result))\n",
            "/usr/local/lib/python3.7/dist-packages/sklearn/metrics/_classification.py:1318: UndefinedMetricWarning: Precision and F-score are ill-defined and being set to 0.0 in labels with no predicted samples. Use `zero_division` parameter to control this behavior.\n",
            "  _warn_prf(average, modifier, msg_start, len(result))\n"
          ]
        }
      ],
      "source": [
        "from sklearn.metrics import classification_report, confusion_matrix\n",
        "\n",
        "preds = model.predict_generator(validation_generator, nb_validation_samples // batch_size+1)\n",
        "y_pred = np.argmax(preds, axis=1)\n",
        "print('Confusion Matrix')\n",
        "print(confusion_matrix(validation_generator.classes, y_pred))\n",
        "print('Classification Report')\n",
        "target_names = ['Malicious', 'Normal']\n",
        "print(classification_report(validation_generator.classes, y_pred, target_names=target_names))"
      ],
      "id": "e908b601"
    },
    {
      "cell_type": "markdown",
      "metadata": {
        "id": "Bu3jshJlt9-_"
      },
      "source": [
        "### Dot Outputs for Both Models"
      ],
      "id": "Bu3jshJlt9-_"
    },
    {
      "cell_type": "code",
      "execution_count": null,
      "metadata": {
        "colab": {
          "background_save": true
        },
        "id": "f739821b",
        "outputId": "726bf95a-8d32-4041-cbc5-abf3f4764e92"
      },
      "outputs": [
        {
          "data": {
            "image/png": "[encoded data removed]",
            "text/plain": [
              "<IPython.core.display.Image object>"
            ]
          },
          "execution_count": null,
          "metadata": {},
          "output_type": "execute_result"
        }
      ],
      "source": [
        "from tensorflow.keras.utils import plot_model\n",
        "plot_model(model, to_file='model.png')"
      ],
      "id": "f739821b"
    },
    {
      "cell_type": "code",
      "execution_count": null,
      "metadata": {
        "colab": {
          "background_save": true
        },
        "id": "13a4490a",
        "outputId": "72a86ddc-1163-40ba-a478-eb8458cc9e1a"
      },
      "outputs": [
        {
          "data": {
            "image/png": "[encoded data removed]",
            "text/plain": [
              "<IPython.core.display.Image object>"
            ]
          },
          "execution_count": null,
          "metadata": {},
          "output_type": "execute_result"
        }
      ],
      "source": [
        "from tensorflow.keras.utils import plot_model\n",
        "plot_model(model2, to_file='model2.png')"
      ],
      "id": "13a4490a"
    },
    {
      "cell_type": "code",
      "execution_count": null,
      "metadata": {
        "colab": {
          "background_save": true
        },
        "id": "1489ab18"
      },
      "outputs": [],
      "source": [
        ""
      ],
      "id": "1489ab18"
    },
    {
      "cell_type": "code",
      "execution_count": null,
      "metadata": {
        "id": "62R8i_v6Qisr"
      },
      "outputs": [],
      "source": [
        "from google.colab import drive\n",
        "drive.mount('/content/drive')"
      ],
      "id": "62R8i_v6Qisr"
    },
    {
      "cell_type": "code",
      "execution_count": null,
      "metadata": {
        "id": "-sVN4sSQQl9Y"
      },
      "outputs": [],
      "source": [
        ""
      ],
      "id": "-sVN4sSQQl9Y"
    }
  ],
  "metadata": {
    "colab": {
      "collapsed_sections": [],
      "name": "CNN-Malicious-Network-Traffic.ipynb",
      "provenance": []
    },
    "kernelspec": {
      "display_name": "Python 3 (ipykernel)",
      "language": "python",
      "name": "python3"
    },
    "language_info": {
      "codemirror_mode": {
        "name": "ipython",
        "version": 3
      },
      "file_extension": ".py",
      "mimetype": "text/x-python",
      "name": "python",
      "nbconvert_exporter": "python",
      "pygments_lexer": "ipython3",
      "version": "3.9.7"
    }
  },
  "nbformat": 4,
  "nbformat_minor": 5
}
